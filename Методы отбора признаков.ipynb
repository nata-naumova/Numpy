{
 "cells": [
  {
   "cell_type": "markdown",
   "id": "83ee382c",
   "metadata": {},
   "source": [
    "1. Информационный критерий (AIC) — это показатель, который используется для сравнения соответствия различных моделей регрессии.\n",
    "2. Информационный критерий (BIC)- это показатель, который используется для сравнения качества соответствия различных регрессионных моделей."
   ]
  },
  {
   "cell_type": "code",
   "execution_count": 1,
   "id": "795bef99",
   "metadata": {},
   "outputs": [],
   "source": [
    "#Подключение библиотек\n",
    "import numpy as np #для обработки массивов\n",
    "import pandas as pd #для анализа данных\n",
    "\n",
    "from sklearn.linear_model import LinearRegression\n",
    "import statsmodels.api as sm #вычисление описательной стат и оценки и формирования стат моделей"
   ]
  },
  {
   "cell_type": "code",
   "execution_count": 2,
   "id": "04f006d4",
   "metadata": {},
   "outputs": [
    {
     "data": {
      "text/html": [
       "<div>\n",
       "<style scoped>\n",
       "    .dataframe tbody tr th:only-of-type {\n",
       "        vertical-align: middle;\n",
       "    }\n",
       "\n",
       "    .dataframe tbody tr th {\n",
       "        vertical-align: top;\n",
       "    }\n",
       "\n",
       "    .dataframe thead th {\n",
       "        text-align: right;\n",
       "    }\n",
       "</style>\n",
       "<table border=\"1\" class=\"dataframe\">\n",
       "  <thead>\n",
       "    <tr style=\"text-align: right;\">\n",
       "      <th></th>\n",
       "      <th>date</th>\n",
       "      <th>price</th>\n",
       "      <th>bedrooms</th>\n",
       "      <th>bathrooms</th>\n",
       "      <th>sqft_living</th>\n",
       "      <th>sqft_lot</th>\n",
       "      <th>floors</th>\n",
       "      <th>waterfront</th>\n",
       "      <th>view</th>\n",
       "      <th>condition</th>\n",
       "      <th>sqft_above</th>\n",
       "      <th>sqft_basement</th>\n",
       "      <th>yr_built</th>\n",
       "      <th>yr_renovated</th>\n",
       "      <th>street</th>\n",
       "      <th>city</th>\n",
       "      <th>statezip</th>\n",
       "      <th>country</th>\n",
       "    </tr>\n",
       "  </thead>\n",
       "  <tbody>\n",
       "    <tr>\n",
       "      <th>0</th>\n",
       "      <td>2014-05-02 00:00:00</td>\n",
       "      <td>313000.0</td>\n",
       "      <td>3.0</td>\n",
       "      <td>1.50</td>\n",
       "      <td>1340</td>\n",
       "      <td>7912</td>\n",
       "      <td>1.5</td>\n",
       "      <td>0</td>\n",
       "      <td>0</td>\n",
       "      <td>3</td>\n",
       "      <td>1340</td>\n",
       "      <td>0</td>\n",
       "      <td>1955</td>\n",
       "      <td>2005</td>\n",
       "      <td>18810 Densmore Ave N</td>\n",
       "      <td>Shoreline</td>\n",
       "      <td>WA 98133</td>\n",
       "      <td>USA</td>\n",
       "    </tr>\n",
       "    <tr>\n",
       "      <th>1</th>\n",
       "      <td>2014-05-02 00:00:00</td>\n",
       "      <td>2384000.0</td>\n",
       "      <td>5.0</td>\n",
       "      <td>2.50</td>\n",
       "      <td>3650</td>\n",
       "      <td>9050</td>\n",
       "      <td>2.0</td>\n",
       "      <td>0</td>\n",
       "      <td>4</td>\n",
       "      <td>5</td>\n",
       "      <td>3370</td>\n",
       "      <td>280</td>\n",
       "      <td>1921</td>\n",
       "      <td>0</td>\n",
       "      <td>709 W Blaine St</td>\n",
       "      <td>Seattle</td>\n",
       "      <td>WA 98119</td>\n",
       "      <td>USA</td>\n",
       "    </tr>\n",
       "    <tr>\n",
       "      <th>2</th>\n",
       "      <td>2014-05-02 00:00:00</td>\n",
       "      <td>342000.0</td>\n",
       "      <td>3.0</td>\n",
       "      <td>2.00</td>\n",
       "      <td>1930</td>\n",
       "      <td>11947</td>\n",
       "      <td>1.0</td>\n",
       "      <td>0</td>\n",
       "      <td>0</td>\n",
       "      <td>4</td>\n",
       "      <td>1930</td>\n",
       "      <td>0</td>\n",
       "      <td>1966</td>\n",
       "      <td>0</td>\n",
       "      <td>26206-26214 143rd Ave SE</td>\n",
       "      <td>Kent</td>\n",
       "      <td>WA 98042</td>\n",
       "      <td>USA</td>\n",
       "    </tr>\n",
       "    <tr>\n",
       "      <th>3</th>\n",
       "      <td>2014-05-02 00:00:00</td>\n",
       "      <td>420000.0</td>\n",
       "      <td>3.0</td>\n",
       "      <td>2.25</td>\n",
       "      <td>2000</td>\n",
       "      <td>8030</td>\n",
       "      <td>1.0</td>\n",
       "      <td>0</td>\n",
       "      <td>0</td>\n",
       "      <td>4</td>\n",
       "      <td>1000</td>\n",
       "      <td>1000</td>\n",
       "      <td>1963</td>\n",
       "      <td>0</td>\n",
       "      <td>857 170th Pl NE</td>\n",
       "      <td>Bellevue</td>\n",
       "      <td>WA 98008</td>\n",
       "      <td>USA</td>\n",
       "    </tr>\n",
       "    <tr>\n",
       "      <th>4</th>\n",
       "      <td>2014-05-02 00:00:00</td>\n",
       "      <td>550000.0</td>\n",
       "      <td>4.0</td>\n",
       "      <td>2.50</td>\n",
       "      <td>1940</td>\n",
       "      <td>10500</td>\n",
       "      <td>1.0</td>\n",
       "      <td>0</td>\n",
       "      <td>0</td>\n",
       "      <td>4</td>\n",
       "      <td>1140</td>\n",
       "      <td>800</td>\n",
       "      <td>1976</td>\n",
       "      <td>1992</td>\n",
       "      <td>9105 170th Ave NE</td>\n",
       "      <td>Redmond</td>\n",
       "      <td>WA 98052</td>\n",
       "      <td>USA</td>\n",
       "    </tr>\n",
       "  </tbody>\n",
       "</table>\n",
       "</div>"
      ],
      "text/plain": [
       "                  date      price  bedrooms  bathrooms  sqft_living  sqft_lot  \\\n",
       "0  2014-05-02 00:00:00   313000.0       3.0       1.50         1340      7912   \n",
       "1  2014-05-02 00:00:00  2384000.0       5.0       2.50         3650      9050   \n",
       "2  2014-05-02 00:00:00   342000.0       3.0       2.00         1930     11947   \n",
       "3  2014-05-02 00:00:00   420000.0       3.0       2.25         2000      8030   \n",
       "4  2014-05-02 00:00:00   550000.0       4.0       2.50         1940     10500   \n",
       "\n",
       "   floors  waterfront  view  condition  sqft_above  sqft_basement  yr_built  \\\n",
       "0     1.5           0     0          3        1340              0      1955   \n",
       "1     2.0           0     4          5        3370            280      1921   \n",
       "2     1.0           0     0          4        1930              0      1966   \n",
       "3     1.0           0     0          4        1000           1000      1963   \n",
       "4     1.0           0     0          4        1140            800      1976   \n",
       "\n",
       "   yr_renovated                    street       city  statezip country  \n",
       "0          2005      18810 Densmore Ave N  Shoreline  WA 98133     USA  \n",
       "1             0           709 W Blaine St    Seattle  WA 98119     USA  \n",
       "2             0  26206-26214 143rd Ave SE       Kent  WA 98042     USA  \n",
       "3             0           857 170th Pl NE   Bellevue  WA 98008     USA  \n",
       "4          1992         9105 170th Ave NE    Redmond  WA 98052     USA  "
      ]
     },
     "execution_count": 2,
     "metadata": {},
     "output_type": "execute_result"
    }
   ],
   "source": [
    "PATH = \"data.csv\"\n",
    "raw_df = pd.read_csv(PATH, encoding='windows-1252') #Для загрузки .csv файла с данными\n",
    "df = raw_df.copy() #копируем файл\n",
    "\n",
    "df.head() #возвращает записи из начала датафрейма"
   ]
  },
  {
   "cell_type": "code",
   "execution_count": 4,
   "id": "3a42b587",
   "metadata": {},
   "outputs": [
    {
     "name": "stdout",
     "output_type": "stream",
     "text": [
      "AIC первой модели:  133920.7510897442\n"
     ]
    }
   ],
   "source": [
    "#Подбираем первую модель и вычисляем AIC\n",
    "#переменная ответа\n",
    "y = df['price']\n",
    "\n",
    "#переменные предикторы\n",
    "x = df[['bedrooms', 'sqft_living']]\n",
    "\n",
    "#добавляем константу\n",
    "x = sm.add_constant(x)\n",
    "\n",
    "#подгонка регрессионной модели\n",
    "model = sm.OLS(y, x).fit()\n",
    "\n",
    "#просмотр АИК модели\n",
    "print(\"AIC первой модели: \",model.aic)"
   ]
  },
  {
   "cell_type": "code",
   "execution_count": 5,
   "id": "7cf233a6",
   "metadata": {},
   "outputs": [
    {
     "name": "stdout",
     "output_type": "stream",
     "text": [
      "AIC второй модели:  134340.96608336628\n"
     ]
    }
   ],
   "source": [
    "y = df['price']\n",
    "\n",
    "#переменные предикторы\n",
    "x = df[['bathrooms', 'condition']]\n",
    "\n",
    "#добавляем константу\n",
    "x = sm.add_constant(x)\n",
    "\n",
    "#подгонка регрессионной модели\n",
    "model = sm.OLS(y, x).fit()\n",
    "\n",
    "#просмотр АИК модели\n",
    "print(\"AIC второй модели: \",model.aic)"
   ]
  },
  {
   "cell_type": "markdown",
   "id": "7381af96",
   "metadata": {},
   "source": [
    "Поскольку первая модель имеет более низкое значение AIC, она является подходящей моделью"
   ]
  },
  {
   "cell_type": "code",
   "execution_count": 6,
   "id": "7704abb2",
   "metadata": {},
   "outputs": [
    {
     "name": "stdout",
     "output_type": "stream",
     "text": [
      "BIC первой модели 133940.05252449165\n"
     ]
    }
   ],
   "source": [
    "y = df['price']\n",
    "\n",
    "x = df[['bedrooms', 'sqft_living']]\n",
    "\n",
    "x = sm.add_constant(x)\n",
    "\n",
    "model = sm.OLS(y, x).fit()\n",
    "\n",
    "print(\"BIC первой модели\",model.bic)"
   ]
  },
  {
   "cell_type": "code",
   "execution_count": 7,
   "id": "a548aa05",
   "metadata": {},
   "outputs": [
    {
     "name": "stdout",
     "output_type": "stream",
     "text": [
      "BIC второй модели 134360.26751811372\n"
     ]
    }
   ],
   "source": [
    "y = df['price']\n",
    "\n",
    "x = df[['bathrooms', 'condition']]\n",
    "\n",
    "x = sm.add_constant(x)\n",
    "\n",
    "model = sm.OLS(y, x).fit()\n",
    "\n",
    "print(\"BIC второй модели\",model.bic)"
   ]
  },
  {
   "cell_type": "markdown",
   "id": "3fe9d85e",
   "metadata": {},
   "source": [
    "Поскольку первая модель имеет более низкое значение BIC, она является подходящей моделью"
   ]
  },
  {
   "cell_type": "markdown",
   "id": "a0b14a9e",
   "metadata": {},
   "source": [
    "Функция std() вычисляет среднеквадратичное (стандартное) отклонение значений элементов массива."
   ]
  },
  {
   "cell_type": "code",
   "execution_count": 8,
   "id": "c6ef972c",
   "metadata": {},
   "outputs": [
    {
     "name": "stderr",
     "output_type": "stream",
     "text": [
      "C:\\Users\\Nata\\AppData\\Local\\Temp/ipykernel_15764/3390915376.py:1: FutureWarning: Dropping of nuisance columns in DataFrame reductions (with 'numeric_only=None') is deprecated; in a future version this will raise TypeError.  Select only valid columns before calling the reduction.\n",
      "  df.std()\n"
     ]
    },
    {
     "data": {
      "text/plain": [
       "price            563834.702547\n",
       "bedrooms              0.908848\n",
       "bathrooms             0.783781\n",
       "sqft_living         963.206916\n",
       "sqft_lot          35884.436145\n",
       "floors                0.538288\n",
       "waterfront            0.084404\n",
       "view                  0.778405\n",
       "condition             0.677230\n",
       "sqft_above          862.168977\n",
       "sqft_basement       464.137228\n",
       "yr_built             29.731848\n",
       "yr_renovated        979.414536\n",
       "dtype: float64"
      ]
     },
     "execution_count": 8,
     "metadata": {},
     "output_type": "execute_result"
    }
   ],
   "source": [
    "df.std() #для вычисления стандартного отклонения"
   ]
  },
  {
   "cell_type": "code",
   "execution_count": null,
   "id": "c729bbef",
   "metadata": {},
   "outputs": [],
   "source": []
  }
 ],
 "metadata": {
  "kernelspec": {
   "display_name": "Python 3 (ipykernel)",
   "language": "python",
   "name": "python3"
  },
  "language_info": {
   "codemirror_mode": {
    "name": "ipython",
    "version": 3
   },
   "file_extension": ".py",
   "mimetype": "text/x-python",
   "name": "python",
   "nbconvert_exporter": "python",
   "pygments_lexer": "ipython3",
   "version": "3.9.7"
  }
 },
 "nbformat": 4,
 "nbformat_minor": 5
}
