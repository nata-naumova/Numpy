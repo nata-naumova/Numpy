{
 "cells": [
  {
   "cell_type": "markdown",
   "id": "6ffe0d41",
   "metadata": {},
   "source": [
    "### Анализ почтового индекса"
   ]
  },
  {
   "cell_type": "code",
   "execution_count": 1,
   "id": "aa9dd6cb",
   "metadata": {},
   "outputs": [],
   "source": [
    "#подключение бибилиотек\n",
    "import numpy as np #для обработки массивов\n",
    "import pandas as pd #для анализа данных\n",
    "import matplotlib.pyplot as plt для гистограмм, диаграмм"
   ]
  },
  {
   "cell_type": "code",
   "execution_count": 3,
   "id": "1d1e5532",
   "metadata": {},
   "outputs": [],
   "source": [
    " data = pd.read_csv('data.csv')  #чтение файла csv в объект dataframe"
   ]
  },
  {
   "cell_type": "code",
   "execution_count": 4,
   "id": "69b7cca4",
   "metadata": {},
   "outputs": [
    {
     "data": {
      "text/html": [
       "<div>\n",
       "<style scoped>\n",
       "    .dataframe tbody tr th:only-of-type {\n",
       "        vertical-align: middle;\n",
       "    }\n",
       "\n",
       "    .dataframe tbody tr th {\n",
       "        vertical-align: top;\n",
       "    }\n",
       "\n",
       "    .dataframe thead th {\n",
       "        text-align: right;\n",
       "    }\n",
       "</style>\n",
       "<table border=\"1\" class=\"dataframe\">\n",
       "  <thead>\n",
       "    <tr style=\"text-align: right;\">\n",
       "      <th></th>\n",
       "      <th>date</th>\n",
       "      <th>price</th>\n",
       "      <th>bedrooms</th>\n",
       "      <th>bathrooms</th>\n",
       "      <th>sqft_living</th>\n",
       "      <th>sqft_lot</th>\n",
       "      <th>floors</th>\n",
       "      <th>waterfront</th>\n",
       "      <th>view</th>\n",
       "      <th>condition</th>\n",
       "      <th>sqft_above</th>\n",
       "      <th>sqft_basement</th>\n",
       "      <th>yr_built</th>\n",
       "      <th>yr_renovated</th>\n",
       "      <th>street</th>\n",
       "      <th>city</th>\n",
       "      <th>statezip</th>\n",
       "      <th>country</th>\n",
       "    </tr>\n",
       "  </thead>\n",
       "  <tbody>\n",
       "    <tr>\n",
       "      <th>0</th>\n",
       "      <td>2014-05-02 00:00:00</td>\n",
       "      <td>313000.0</td>\n",
       "      <td>3.0</td>\n",
       "      <td>1.50</td>\n",
       "      <td>1340</td>\n",
       "      <td>7912</td>\n",
       "      <td>1.5</td>\n",
       "      <td>0</td>\n",
       "      <td>0</td>\n",
       "      <td>3</td>\n",
       "      <td>1340</td>\n",
       "      <td>0</td>\n",
       "      <td>1955</td>\n",
       "      <td>2005</td>\n",
       "      <td>18810 Densmore Ave N</td>\n",
       "      <td>Shoreline</td>\n",
       "      <td>WA 98133</td>\n",
       "      <td>USA</td>\n",
       "    </tr>\n",
       "    <tr>\n",
       "      <th>1</th>\n",
       "      <td>2014-05-02 00:00:00</td>\n",
       "      <td>2384000.0</td>\n",
       "      <td>5.0</td>\n",
       "      <td>2.50</td>\n",
       "      <td>3650</td>\n",
       "      <td>9050</td>\n",
       "      <td>2.0</td>\n",
       "      <td>0</td>\n",
       "      <td>4</td>\n",
       "      <td>5</td>\n",
       "      <td>3370</td>\n",
       "      <td>280</td>\n",
       "      <td>1921</td>\n",
       "      <td>0</td>\n",
       "      <td>709 W Blaine St</td>\n",
       "      <td>Seattle</td>\n",
       "      <td>WA 98119</td>\n",
       "      <td>USA</td>\n",
       "    </tr>\n",
       "    <tr>\n",
       "      <th>2</th>\n",
       "      <td>2014-05-02 00:00:00</td>\n",
       "      <td>342000.0</td>\n",
       "      <td>3.0</td>\n",
       "      <td>2.00</td>\n",
       "      <td>1930</td>\n",
       "      <td>11947</td>\n",
       "      <td>1.0</td>\n",
       "      <td>0</td>\n",
       "      <td>0</td>\n",
       "      <td>4</td>\n",
       "      <td>1930</td>\n",
       "      <td>0</td>\n",
       "      <td>1966</td>\n",
       "      <td>0</td>\n",
       "      <td>26206-26214 143rd Ave SE</td>\n",
       "      <td>Kent</td>\n",
       "      <td>WA 98042</td>\n",
       "      <td>USA</td>\n",
       "    </tr>\n",
       "    <tr>\n",
       "      <th>3</th>\n",
       "      <td>2014-05-02 00:00:00</td>\n",
       "      <td>420000.0</td>\n",
       "      <td>3.0</td>\n",
       "      <td>2.25</td>\n",
       "      <td>2000</td>\n",
       "      <td>8030</td>\n",
       "      <td>1.0</td>\n",
       "      <td>0</td>\n",
       "      <td>0</td>\n",
       "      <td>4</td>\n",
       "      <td>1000</td>\n",
       "      <td>1000</td>\n",
       "      <td>1963</td>\n",
       "      <td>0</td>\n",
       "      <td>857 170th Pl NE</td>\n",
       "      <td>Bellevue</td>\n",
       "      <td>WA 98008</td>\n",
       "      <td>USA</td>\n",
       "    </tr>\n",
       "    <tr>\n",
       "      <th>4</th>\n",
       "      <td>2014-05-02 00:00:00</td>\n",
       "      <td>550000.0</td>\n",
       "      <td>4.0</td>\n",
       "      <td>2.50</td>\n",
       "      <td>1940</td>\n",
       "      <td>10500</td>\n",
       "      <td>1.0</td>\n",
       "      <td>0</td>\n",
       "      <td>0</td>\n",
       "      <td>4</td>\n",
       "      <td>1140</td>\n",
       "      <td>800</td>\n",
       "      <td>1976</td>\n",
       "      <td>1992</td>\n",
       "      <td>9105 170th Ave NE</td>\n",
       "      <td>Redmond</td>\n",
       "      <td>WA 98052</td>\n",
       "      <td>USA</td>\n",
       "    </tr>\n",
       "  </tbody>\n",
       "</table>\n",
       "</div>"
      ],
      "text/plain": [
       "                  date      price  bedrooms  bathrooms  sqft_living  sqft_lot  \\\n",
       "0  2014-05-02 00:00:00   313000.0       3.0       1.50         1340      7912   \n",
       "1  2014-05-02 00:00:00  2384000.0       5.0       2.50         3650      9050   \n",
       "2  2014-05-02 00:00:00   342000.0       3.0       2.00         1930     11947   \n",
       "3  2014-05-02 00:00:00   420000.0       3.0       2.25         2000      8030   \n",
       "4  2014-05-02 00:00:00   550000.0       4.0       2.50         1940     10500   \n",
       "\n",
       "   floors  waterfront  view  condition  sqft_above  sqft_basement  yr_built  \\\n",
       "0     1.5           0     0          3        1340              0      1955   \n",
       "1     2.0           0     4          5        3370            280      1921   \n",
       "2     1.0           0     0          4        1930              0      1966   \n",
       "3     1.0           0     0          4        1000           1000      1963   \n",
       "4     1.0           0     0          4        1140            800      1976   \n",
       "\n",
       "   yr_renovated                    street       city  statezip country  \n",
       "0          2005      18810 Densmore Ave N  Shoreline  WA 98133     USA  \n",
       "1             0           709 W Blaine St    Seattle  WA 98119     USA  \n",
       "2             0  26206-26214 143rd Ave SE       Kent  WA 98042     USA  \n",
       "3             0           857 170th Pl NE   Bellevue  WA 98008     USA  \n",
       "4          1992         9105 170th Ave NE    Redmond  WA 98052     USA  "
      ]
     },
     "execution_count": 4,
     "metadata": {},
     "output_type": "execute_result"
    }
   ],
   "source": [
    "data.head() #возвращает записи из начала датафрейма"
   ]
  },
  {
   "cell_type": "code",
   "execution_count": 5,
   "id": "9c78dc7d",
   "metadata": {},
   "outputs": [
    {
     "data": {
      "text/plain": [
       "WA 98103    148\n",
       "WA 98052    135\n",
       "WA 98117    132\n",
       "WA 98115    130\n",
       "WA 98006    110\n",
       "           ... \n",
       "WA 98047      6\n",
       "WA 98288      3\n",
       "WA 98050      2\n",
       "WA 98354      2\n",
       "WA 98068      1\n",
       "Name: statezip, Length: 77, dtype: int64"
      ]
     },
     "execution_count": 5,
     "metadata": {},
     "output_type": "execute_result"
    }
   ],
   "source": [
    "#Проверка уникального почтового индекса\n",
    "data.statezip.value_counts() #для получения Series , содержащего уникальные значения"
   ]
  },
  {
   "cell_type": "markdown",
   "id": "c895f148",
   "metadata": {},
   "source": [
    "Все почтовые индексы Вашингтона. Проведем корреляционный анализ почтовых индексов"
   ]
  },
  {
   "cell_type": "code",
   "execution_count": 8,
   "id": "0895b41b",
   "metadata": {},
   "outputs": [
    {
     "data": {
      "text/plain": [
       "<AxesSubplot:xlabel='price', ylabel='statezip'>"
      ]
     },
     "execution_count": 8,
     "metadata": {},
     "output_type": "execute_result"
    },
    {
     "data": {
      "image/png": "[encoded data removed]",
      "text/plain": [
       "<Figure size 360x1296 with 1 Axes>"
      ]
     },
     "metadata": {
      "needs_background": "light"
     },
     "output_type": "display_data"
    }
   ],
   "source": [
    "import seaborn as sns #библиотека визуализации данных\n",
    "%matplotlib inline\n",
    "\n",
    "a4_dims = (5, 18)\n",
    "fig, ax = plt.subplots(figsize=a4_dims)\n",
    "sns.barplot(ax = ax, x = data.price, y = data.statezip)"
   ]
  },
  {
   "cell_type": "code",
   "execution_count": 9,
   "id": "a9db15c9",
   "metadata": {},
   "outputs": [
    {
     "name": "stderr",
     "output_type": "stream",
     "text": [
      "C:\\Users\\Nata\\anaconda3\\lib\\site-packages\\seaborn\\distributions.py:2619: FutureWarning: `distplot` is a deprecated function and will be removed in a future version. Please adapt your code to use either `displot` (a figure-level function with similar flexibility) or `histplot` (an axes-level function for histograms).\n",
      "  warnings.warn(msg, FutureWarning)\n"
     ]
    },
    {
     "data": {
      "text/plain": [
       "<AxesSubplot:xlabel='price', ylabel='Density'>"
      ]
     },
     "execution_count": 9,
     "metadata": {},
     "output_type": "execute_result"
    },
    {
     "data": {
      "image/png": "[encoded data removed]",
      "text/plain": [
       "<Figure size 1080x576 with 1 Axes>"
      ]
     },
     "metadata": {
      "needs_background": "light"
     },
     "output_type": "display_data"
    }
   ],
   "source": [
    "#Посмотрим на распределение цены\n",
    "a4_dims = (15, 8)\n",
    "fig, ax = plt.subplots(figsize=a4_dims)\n",
    "sns.distplot(a = data.price, bins = 1000, color = 'r', ax = ax)"
   ]
  },
  {
   "cell_type": "code",
   "execution_count": 10,
   "id": "9a6b6d52",
   "metadata": {},
   "outputs": [
    {
     "data": {
      "text/plain": [
       "min           0.0\n",
       "max    26590000.0\n",
       "Name: price, dtype: float64"
      ]
     },
     "execution_count": 10,
     "metadata": {},
     "output_type": "execute_result"
    }
   ],
   "source": [
    "#Сгруппируем по цене\n",
    "data.price.agg([min, max])"
   ]
  },
  {
   "cell_type": "code",
   "execution_count": 11,
   "id": "3b6895b5",
   "metadata": {},
   "outputs": [
    {
     "data": {
      "text/plain": [
       "49"
      ]
     },
     "execution_count": 11,
     "metadata": {},
     "output_type": "execute_result"
    }
   ],
   "source": [
    "#Количество элементов с ценой = 0\n",
    "len(data[(data.price == 0)])"
   ]
  },
  {
   "cell_type": "markdown",
   "id": "49622998",
   "metadata": {},
   "source": [
    "### Анализ всех экземпляров, цена которых равна 0"
   ]
  },
  {
   "cell_type": "code",
   "execution_count": 12,
   "id": "d69842e2",
   "metadata": {},
   "outputs": [
    {
     "data": {
      "text/plain": [
       "(49, 18)"
      ]
     },
     "execution_count": 12,
     "metadata": {},
     "output_type": "execute_result"
    }
   ],
   "source": [
    "#Получение всех этих экземпляров\n",
    "zero_price = data[(data.price == 0)].copy()\n",
    "zero_price.shape #массив"
   ]
  },
  {
   "cell_type": "code",
   "execution_count": 13,
   "id": "af055d1c",
   "metadata": {},
   "outputs": [
    {
     "data": {
      "text/html": [
       "<div>\n",
       "<style scoped>\n",
       "    .dataframe tbody tr th:only-of-type {\n",
       "        vertical-align: middle;\n",
       "    }\n",
       "\n",
       "    .dataframe tbody tr th {\n",
       "        vertical-align: top;\n",
       "    }\n",
       "\n",
       "    .dataframe thead th {\n",
       "        text-align: right;\n",
       "    }\n",
       "</style>\n",
       "<table border=\"1\" class=\"dataframe\">\n",
       "  <thead>\n",
       "    <tr style=\"text-align: right;\">\n",
       "      <th></th>\n",
       "      <th>date</th>\n",
       "      <th>price</th>\n",
       "      <th>bedrooms</th>\n",
       "      <th>bathrooms</th>\n",
       "      <th>sqft_living</th>\n",
       "      <th>sqft_lot</th>\n",
       "      <th>floors</th>\n",
       "      <th>waterfront</th>\n",
       "      <th>view</th>\n",
       "      <th>condition</th>\n",
       "      <th>sqft_above</th>\n",
       "      <th>sqft_basement</th>\n",
       "      <th>yr_built</th>\n",
       "      <th>yr_renovated</th>\n",
       "      <th>street</th>\n",
       "      <th>city</th>\n",
       "      <th>statezip</th>\n",
       "      <th>country</th>\n",
       "    </tr>\n",
       "  </thead>\n",
       "  <tbody>\n",
       "    <tr>\n",
       "      <th>4354</th>\n",
       "      <td>2014-05-05 00:00:00</td>\n",
       "      <td>0.0</td>\n",
       "      <td>3.0</td>\n",
       "      <td>1.75</td>\n",
       "      <td>1490</td>\n",
       "      <td>10125</td>\n",
       "      <td>1.0</td>\n",
       "      <td>0</td>\n",
       "      <td>0</td>\n",
       "      <td>4</td>\n",
       "      <td>1490</td>\n",
       "      <td>0</td>\n",
       "      <td>1962</td>\n",
       "      <td>0</td>\n",
       "      <td>3911 S 328th St</td>\n",
       "      <td>Federal Way</td>\n",
       "      <td>WA 98001</td>\n",
       "      <td>USA</td>\n",
       "    </tr>\n",
       "    <tr>\n",
       "      <th>4356</th>\n",
       "      <td>2014-05-05 00:00:00</td>\n",
       "      <td>0.0</td>\n",
       "      <td>4.0</td>\n",
       "      <td>2.75</td>\n",
       "      <td>2600</td>\n",
       "      <td>5390</td>\n",
       "      <td>1.0</td>\n",
       "      <td>0</td>\n",
       "      <td>0</td>\n",
       "      <td>4</td>\n",
       "      <td>1300</td>\n",
       "      <td>1300</td>\n",
       "      <td>1960</td>\n",
       "      <td>2001</td>\n",
       "      <td>2120 31st Ave W</td>\n",
       "      <td>Seattle</td>\n",
       "      <td>WA 98199</td>\n",
       "      <td>USA</td>\n",
       "    </tr>\n",
       "    <tr>\n",
       "      <th>4357</th>\n",
       "      <td>2014-05-05 00:00:00</td>\n",
       "      <td>0.0</td>\n",
       "      <td>6.0</td>\n",
       "      <td>2.75</td>\n",
       "      <td>3200</td>\n",
       "      <td>9200</td>\n",
       "      <td>1.0</td>\n",
       "      <td>0</td>\n",
       "      <td>2</td>\n",
       "      <td>4</td>\n",
       "      <td>1600</td>\n",
       "      <td>1600</td>\n",
       "      <td>1953</td>\n",
       "      <td>1983</td>\n",
       "      <td>12271 Marine View Dr SW</td>\n",
       "      <td>Burien</td>\n",
       "      <td>WA 98146</td>\n",
       "      <td>USA</td>\n",
       "    </tr>\n",
       "    <tr>\n",
       "      <th>4358</th>\n",
       "      <td>2014-05-06 00:00:00</td>\n",
       "      <td>0.0</td>\n",
       "      <td>5.0</td>\n",
       "      <td>3.50</td>\n",
       "      <td>3480</td>\n",
       "      <td>36615</td>\n",
       "      <td>2.0</td>\n",
       "      <td>0</td>\n",
       "      <td>0</td>\n",
       "      <td>4</td>\n",
       "      <td>2490</td>\n",
       "      <td>990</td>\n",
       "      <td>1983</td>\n",
       "      <td>0</td>\n",
       "      <td>21809 SE 38th Pl</td>\n",
       "      <td>Issaquah</td>\n",
       "      <td>WA 98075</td>\n",
       "      <td>USA</td>\n",
       "    </tr>\n",
       "    <tr>\n",
       "      <th>4361</th>\n",
       "      <td>2014-05-07 00:00:00</td>\n",
       "      <td>0.0</td>\n",
       "      <td>5.0</td>\n",
       "      <td>1.50</td>\n",
       "      <td>1500</td>\n",
       "      <td>7112</td>\n",
       "      <td>1.0</td>\n",
       "      <td>0</td>\n",
       "      <td>0</td>\n",
       "      <td>5</td>\n",
       "      <td>760</td>\n",
       "      <td>740</td>\n",
       "      <td>1920</td>\n",
       "      <td>0</td>\n",
       "      <td>14901-14999 12th Ave SW</td>\n",
       "      <td>Burien</td>\n",
       "      <td>WA 98166</td>\n",
       "      <td>USA</td>\n",
       "    </tr>\n",
       "  </tbody>\n",
       "</table>\n",
       "</div>"
      ],
      "text/plain": [
       "                     date  price  bedrooms  bathrooms  sqft_living  sqft_lot  \\\n",
       "4354  2014-05-05 00:00:00    0.0       3.0       1.75         1490     10125   \n",
       "4356  2014-05-05 00:00:00    0.0       4.0       2.75         2600      5390   \n",
       "4357  2014-05-05 00:00:00    0.0       6.0       2.75         3200      9200   \n",
       "4358  2014-05-06 00:00:00    0.0       5.0       3.50         3480     36615   \n",
       "4361  2014-05-07 00:00:00    0.0       5.0       1.50         1500      7112   \n",
       "\n",
       "      floors  waterfront  view  condition  sqft_above  sqft_basement  \\\n",
       "4354     1.0           0     0          4        1490              0   \n",
       "4356     1.0           0     0          4        1300           1300   \n",
       "4357     1.0           0     2          4        1600           1600   \n",
       "4358     2.0           0     0          4        2490            990   \n",
       "4361     1.0           0     0          5         760            740   \n",
       "\n",
       "      yr_built  yr_renovated                   street         city  statezip  \\\n",
       "4354      1962             0          3911 S 328th St  Federal Way  WA 98001   \n",
       "4356      1960          2001          2120 31st Ave W      Seattle  WA 98199   \n",
       "4357      1953          1983  12271 Marine View Dr SW       Burien  WA 98146   \n",
       "4358      1983             0         21809 SE 38th Pl     Issaquah  WA 98075   \n",
       "4361      1920             0  14901-14999 12th Ave SW       Burien  WA 98166   \n",
       "\n",
       "     country  \n",
       "4354     USA  \n",
       "4356     USA  \n",
       "4357     USA  \n",
       "4358     USA  \n",
       "4361     USA  "
      ]
     },
     "execution_count": 13,
     "metadata": {},
     "output_type": "execute_result"
    }
   ],
   "source": [
    "zero_price.head() #возвращает записи из начала датафрейма"
   ]
  },
  {
   "cell_type": "code",
   "execution_count": 14,
   "id": "793cb583",
   "metadata": {},
   "outputs": [
    {
     "name": "stderr",
     "output_type": "stream",
     "text": [
      "C:\\Users\\Nata\\anaconda3\\lib\\site-packages\\seaborn\\distributions.py:2619: FutureWarning: `distplot` is a deprecated function and will be removed in a future version. Please adapt your code to use either `displot` (a figure-level function with similar flexibility) or `histplot` (an axes-level function for histograms).\n",
      "  warnings.warn(msg, FutureWarning)\n"
     ]
    },
    {
     "data": {
      "text/plain": [
       "<AxesSubplot:xlabel='sqft_living', ylabel='Density'>"
      ]
     },
     "execution_count": 14,
     "metadata": {},
     "output_type": "execute_result"
    },
    {
     "data": {
      "image/png": "[encoded data removed]",
      "text/plain": [
       "<Figure size 432x288 with 1 Axes>"
      ]
     },
     "metadata": {
      "needs_background": "light"
     },
     "output_type": "display_data"
    }
   ],
   "source": [
    "#Получим уникальное значение наиболее важных признаков\n",
    "sns.distplot(zero_price.sqft_living)"
   ]
  },
  {
   "cell_type": "markdown",
   "id": "0c4dc393",
   "metadata": {},
   "source": [
    "Большинство домов по нулевой цене находятся в диапазоне от 1000 до 5000 кв. футов."
   ]
  },
  {
   "cell_type": "code",
   "execution_count": 15,
   "id": "85b4bc39",
   "metadata": {},
   "outputs": [
    {
     "data": {
      "text/html": [
       "<div>\n",
       "<style scoped>\n",
       "    .dataframe tbody tr th:only-of-type {\n",
       "        vertical-align: middle;\n",
       "    }\n",
       "\n",
       "    .dataframe tbody tr th {\n",
       "        vertical-align: top;\n",
       "    }\n",
       "\n",
       "    .dataframe thead th {\n",
       "        text-align: right;\n",
       "    }\n",
       "</style>\n",
       "<table border=\"1\" class=\"dataframe\">\n",
       "  <thead>\n",
       "    <tr style=\"text-align: right;\">\n",
       "      <th></th>\n",
       "      <th>date</th>\n",
       "      <th>price</th>\n",
       "      <th>bedrooms</th>\n",
       "      <th>bathrooms</th>\n",
       "      <th>sqft_living</th>\n",
       "      <th>sqft_lot</th>\n",
       "      <th>floors</th>\n",
       "      <th>waterfront</th>\n",
       "      <th>view</th>\n",
       "      <th>condition</th>\n",
       "      <th>sqft_above</th>\n",
       "      <th>sqft_basement</th>\n",
       "      <th>yr_built</th>\n",
       "      <th>yr_renovated</th>\n",
       "      <th>street</th>\n",
       "      <th>city</th>\n",
       "      <th>statezip</th>\n",
       "      <th>country</th>\n",
       "    </tr>\n",
       "  </thead>\n",
       "  <tbody>\n",
       "    <tr>\n",
       "      <th>min</th>\n",
       "      <td>2014-05-05 00:00:00</td>\n",
       "      <td>0.0</td>\n",
       "      <td>1.000000</td>\n",
       "      <td>1.00000</td>\n",
       "      <td>720.000000</td>\n",
       "      <td>3500.000000</td>\n",
       "      <td>1.0</td>\n",
       "      <td>0.000000</td>\n",
       "      <td>0.000000</td>\n",
       "      <td>2.000000</td>\n",
       "      <td>720.000000</td>\n",
       "      <td>0.000000</td>\n",
       "      <td>1920.000000</td>\n",
       "      <td>0.000000</td>\n",
       "      <td>101-127 247th Ave SE</td>\n",
       "      <td>Auburn</td>\n",
       "      <td>WA 98001</td>\n",
       "      <td>USA</td>\n",
       "    </tr>\n",
       "    <tr>\n",
       "      <th>max</th>\n",
       "      <td>2014-07-08 00:00:00</td>\n",
       "      <td>0.0</td>\n",
       "      <td>6.000000</td>\n",
       "      <td>6.25000</td>\n",
       "      <td>8020.000000</td>\n",
       "      <td>188200.000000</td>\n",
       "      <td>3.0</td>\n",
       "      <td>1.000000</td>\n",
       "      <td>4.000000</td>\n",
       "      <td>5.000000</td>\n",
       "      <td>8020.000000</td>\n",
       "      <td>1950.000000</td>\n",
       "      <td>2013.000000</td>\n",
       "      <td>2009.000000</td>\n",
       "      <td>9243 NE 20th St</td>\n",
       "      <td>Woodinville</td>\n",
       "      <td>WA 98199</td>\n",
       "      <td>USA</td>\n",
       "    </tr>\n",
       "    <tr>\n",
       "      <th>mean</th>\n",
       "      <td>NaN</td>\n",
       "      <td>0.0</td>\n",
       "      <td>3.979592</td>\n",
       "      <td>2.69898</td>\n",
       "      <td>2787.142857</td>\n",
       "      <td>16453.306122</td>\n",
       "      <td>1.5</td>\n",
       "      <td>0.061224</td>\n",
       "      <td>0.795918</td>\n",
       "      <td>3.673469</td>\n",
       "      <td>2295.714286</td>\n",
       "      <td>491.428571</td>\n",
       "      <td>1969.918367</td>\n",
       "      <td>812.714286</td>\n",
       "      <td>NaN</td>\n",
       "      <td>NaN</td>\n",
       "      <td>NaN</td>\n",
       "      <td>NaN</td>\n",
       "    </tr>\n",
       "    <tr>\n",
       "      <th>median</th>\n",
       "      <td>NaN</td>\n",
       "      <td>0.0</td>\n",
       "      <td>4.000000</td>\n",
       "      <td>2.50000</td>\n",
       "      <td>2600.000000</td>\n",
       "      <td>9000.000000</td>\n",
       "      <td>1.5</td>\n",
       "      <td>0.000000</td>\n",
       "      <td>0.000000</td>\n",
       "      <td>3.000000</td>\n",
       "      <td>1990.000000</td>\n",
       "      <td>0.000000</td>\n",
       "      <td>1962.000000</td>\n",
       "      <td>0.000000</td>\n",
       "      <td>NaN</td>\n",
       "      <td>NaN</td>\n",
       "      <td>NaN</td>\n",
       "      <td>NaN</td>\n",
       "    </tr>\n",
       "  </tbody>\n",
       "</table>\n",
       "</div>"
      ],
      "text/plain": [
       "                       date  price  bedrooms  bathrooms  sqft_living  \\\n",
       "min     2014-05-05 00:00:00    0.0  1.000000    1.00000   720.000000   \n",
       "max     2014-07-08 00:00:00    0.0  6.000000    6.25000  8020.000000   \n",
       "mean                    NaN    0.0  3.979592    2.69898  2787.142857   \n",
       "median                  NaN    0.0  4.000000    2.50000  2600.000000   \n",
       "\n",
       "             sqft_lot  floors  waterfront      view  condition   sqft_above  \\\n",
       "min       3500.000000     1.0    0.000000  0.000000   2.000000   720.000000   \n",
       "max     188200.000000     3.0    1.000000  4.000000   5.000000  8020.000000   \n",
       "mean     16453.306122     1.5    0.061224  0.795918   3.673469  2295.714286   \n",
       "median    9000.000000     1.5    0.000000  0.000000   3.000000  1990.000000   \n",
       "\n",
       "        sqft_basement     yr_built  yr_renovated                street  \\\n",
       "min          0.000000  1920.000000      0.000000  101-127 247th Ave SE   \n",
       "max       1950.000000  2013.000000   2009.000000       9243 NE 20th St   \n",
       "mean       491.428571  1969.918367    812.714286                   NaN   \n",
       "median       0.000000  1962.000000      0.000000                   NaN   \n",
       "\n",
       "               city  statezip country  \n",
       "min          Auburn  WA 98001     USA  \n",
       "max     Woodinville  WA 98199     USA  \n",
       "mean            NaN       NaN     NaN  \n",
       "median          NaN       NaN     NaN  "
      ]
     },
     "execution_count": 15,
     "metadata": {},
     "output_type": "execute_result"
    }
   ],
   "source": [
    "#найдем больше корреляции между домами с нулевой ценой\n",
    "zero_price.agg([min, max, 'mean', 'median'])"
   ]
  },
  {
   "cell_type": "markdown",
   "id": "48b40a81",
   "metadata": {},
   "source": [
    "Используем общие диапазоны из приведенной выше таблицы, чтобы получить аналогичные записи из исходного набора данных, и ненулевую цену, чтобы установить значения 0 ценовых экземпляров."
   ]
  },
  {
   "cell_type": "code",
   "execution_count": 16,
   "id": "356efabd",
   "metadata": {},
   "outputs": [],
   "source": [
    "sim_from_ori = data[(data.bedrooms == 4) & \n",
    "                  (data.bathrooms > 1) & \n",
    "                  (data.bathrooms < 4) & \n",
    "                  (data.sqft_living > 2500) & \n",
    "                  (data.sqft_living < 3000) & \n",
    "                  (data.floors < 3) & \n",
    "                  (data.yr_built < 1970)].copy()"
   ]
  },
  {
   "cell_type": "code",
   "execution_count": 17,
   "id": "2734808c",
   "metadata": {},
   "outputs": [
    {
     "data": {
      "text/plain": [
       "(79, 18)"
      ]
     },
     "execution_count": 17,
     "metadata": {},
     "output_type": "execute_result"
    }
   ],
   "source": [
    "sim_from_ori.shape"
   ]
  },
  {
   "cell_type": "code",
   "execution_count": 18,
   "id": "121b4e83",
   "metadata": {},
   "outputs": [
    {
     "data": {
      "text/html": [
       "<div>\n",
       "<style scoped>\n",
       "    .dataframe tbody tr th:only-of-type {\n",
       "        vertical-align: middle;\n",
       "    }\n",
       "\n",
       "    .dataframe tbody tr th {\n",
       "        vertical-align: top;\n",
       "    }\n",
       "\n",
       "    .dataframe thead th {\n",
       "        text-align: right;\n",
       "    }\n",
       "</style>\n",
       "<table border=\"1\" class=\"dataframe\">\n",
       "  <thead>\n",
       "    <tr style=\"text-align: right;\">\n",
       "      <th></th>\n",
       "      <th>date</th>\n",
       "      <th>price</th>\n",
       "      <th>bedrooms</th>\n",
       "      <th>bathrooms</th>\n",
       "      <th>sqft_living</th>\n",
       "      <th>sqft_lot</th>\n",
       "      <th>floors</th>\n",
       "      <th>waterfront</th>\n",
       "      <th>view</th>\n",
       "      <th>condition</th>\n",
       "      <th>sqft_above</th>\n",
       "      <th>sqft_basement</th>\n",
       "      <th>yr_built</th>\n",
       "      <th>yr_renovated</th>\n",
       "      <th>street</th>\n",
       "      <th>city</th>\n",
       "      <th>statezip</th>\n",
       "      <th>country</th>\n",
       "    </tr>\n",
       "  </thead>\n",
       "  <tbody>\n",
       "    <tr>\n",
       "      <th>11</th>\n",
       "      <td>2014-05-02 00:00:00</td>\n",
       "      <td>1400000.0</td>\n",
       "      <td>4.0</td>\n",
       "      <td>2.50</td>\n",
       "      <td>2920</td>\n",
       "      <td>4000</td>\n",
       "      <td>1.5</td>\n",
       "      <td>0</td>\n",
       "      <td>0</td>\n",
       "      <td>5</td>\n",
       "      <td>1910</td>\n",
       "      <td>1010</td>\n",
       "      <td>1909</td>\n",
       "      <td>1988</td>\n",
       "      <td>3838-4098 44th Ave NE</td>\n",
       "      <td>Seattle</td>\n",
       "      <td>WA 98105</td>\n",
       "      <td>USA</td>\n",
       "    </tr>\n",
       "    <tr>\n",
       "      <th>172</th>\n",
       "      <td>2014-05-06 00:00:00</td>\n",
       "      <td>407000.0</td>\n",
       "      <td>4.0</td>\n",
       "      <td>2.25</td>\n",
       "      <td>2810</td>\n",
       "      <td>23400</td>\n",
       "      <td>1.0</td>\n",
       "      <td>0</td>\n",
       "      <td>1</td>\n",
       "      <td>3</td>\n",
       "      <td>1710</td>\n",
       "      <td>1100</td>\n",
       "      <td>1958</td>\n",
       "      <td>2004</td>\n",
       "      <td>23024-23198 17th Ave S</td>\n",
       "      <td>Des Moines</td>\n",
       "      <td>WA 98198</td>\n",
       "      <td>USA</td>\n",
       "    </tr>\n",
       "    <tr>\n",
       "      <th>207</th>\n",
       "      <td>2014-05-06 00:00:00</td>\n",
       "      <td>360000.0</td>\n",
       "      <td>4.0</td>\n",
       "      <td>2.00</td>\n",
       "      <td>2680</td>\n",
       "      <td>18768</td>\n",
       "      <td>1.0</td>\n",
       "      <td>0</td>\n",
       "      <td>0</td>\n",
       "      <td>5</td>\n",
       "      <td>2680</td>\n",
       "      <td>0</td>\n",
       "      <td>1965</td>\n",
       "      <td>0</td>\n",
       "      <td>31607-31633 44th Ave S</td>\n",
       "      <td>Auburn</td>\n",
       "      <td>WA 98001</td>\n",
       "      <td>USA</td>\n",
       "    </tr>\n",
       "    <tr>\n",
       "      <th>257</th>\n",
       "      <td>2014-05-07 00:00:00</td>\n",
       "      <td>749950.0</td>\n",
       "      <td>4.0</td>\n",
       "      <td>2.75</td>\n",
       "      <td>2600</td>\n",
       "      <td>6050</td>\n",
       "      <td>2.0</td>\n",
       "      <td>0</td>\n",
       "      <td>0</td>\n",
       "      <td>5</td>\n",
       "      <td>1960</td>\n",
       "      <td>640</td>\n",
       "      <td>1949</td>\n",
       "      <td>0</td>\n",
       "      <td>4140 53rd Ave SW</td>\n",
       "      <td>Seattle</td>\n",
       "      <td>WA 98116</td>\n",
       "      <td>USA</td>\n",
       "    </tr>\n",
       "    <tr>\n",
       "      <th>261</th>\n",
       "      <td>2014-05-07 00:00:00</td>\n",
       "      <td>581000.0</td>\n",
       "      <td>4.0</td>\n",
       "      <td>2.00</td>\n",
       "      <td>2510</td>\n",
       "      <td>13695</td>\n",
       "      <td>1.0</td>\n",
       "      <td>0</td>\n",
       "      <td>0</td>\n",
       "      <td>4</td>\n",
       "      <td>1280</td>\n",
       "      <td>1230</td>\n",
       "      <td>1961</td>\n",
       "      <td>2001</td>\n",
       "      <td>11105 126th Ave NE</td>\n",
       "      <td>Kirkland</td>\n",
       "      <td>WA 98033</td>\n",
       "      <td>USA</td>\n",
       "    </tr>\n",
       "  </tbody>\n",
       "</table>\n",
       "</div>"
      ],
      "text/plain": [
       "                    date      price  bedrooms  bathrooms  sqft_living  \\\n",
       "11   2014-05-02 00:00:00  1400000.0       4.0       2.50         2920   \n",
       "172  2014-05-06 00:00:00   407000.0       4.0       2.25         2810   \n",
       "207  2014-05-06 00:00:00   360000.0       4.0       2.00         2680   \n",
       "257  2014-05-07 00:00:00   749950.0       4.0       2.75         2600   \n",
       "261  2014-05-07 00:00:00   581000.0       4.0       2.00         2510   \n",
       "\n",
       "     sqft_lot  floors  waterfront  view  condition  sqft_above  sqft_basement  \\\n",
       "11       4000     1.5           0     0          5        1910           1010   \n",
       "172     23400     1.0           0     1          3        1710           1100   \n",
       "207     18768     1.0           0     0          5        2680              0   \n",
       "257      6050     2.0           0     0          5        1960            640   \n",
       "261     13695     1.0           0     0          4        1280           1230   \n",
       "\n",
       "     yr_built  yr_renovated                  street        city  statezip  \\\n",
       "11       1909          1988   3838-4098 44th Ave NE     Seattle  WA 98105   \n",
       "172      1958          2004  23024-23198 17th Ave S  Des Moines  WA 98198   \n",
       "207      1965             0  31607-31633 44th Ave S      Auburn  WA 98001   \n",
       "257      1949             0        4140 53rd Ave SW     Seattle  WA 98116   \n",
       "261      1961          2001      11105 126th Ave NE    Kirkland  WA 98033   \n",
       "\n",
       "    country  \n",
       "11      USA  \n",
       "172     USA  \n",
       "207     USA  \n",
       "257     USA  \n",
       "261     USA  "
      ]
     },
     "execution_count": 18,
     "metadata": {},
     "output_type": "execute_result"
    }
   ],
   "source": [
    "sim_from_ori.head()"
   ]
  },
  {
   "cell_type": "code",
   "execution_count": 19,
   "id": "275c9ecd",
   "metadata": {},
   "outputs": [
    {
     "data": {
      "text/plain": [
       "735475.0370705189"
      ]
     },
     "execution_count": 19,
     "metadata": {},
     "output_type": "execute_result"
    }
   ],
   "source": [
    "#Получим среднюю цену этих экземпляров\n",
    "sim_from_ori.price.mean()"
   ]
  },
  {
   "cell_type": "markdown",
   "id": "9980fbfb",
   "metadata": {},
   "source": [
    "Давайте подтвердим это, сравнив с другой ценой на дом того же года постройки и с таким же квадратным футом."
   ]
  },
  {
   "cell_type": "code",
   "execution_count": 20,
   "id": "ab09fac2",
   "metadata": {},
   "outputs": [],
   "source": [
    "yr_sqft = data[(data.sqft_living > 2499) & (data.sqft_living < 2900)].copy()\n",
    "yr_price_avg = yr_sqft.groupby('yr_built').price.agg('mean')"
   ]
  },
  {
   "cell_type": "code",
   "execution_count": 21,
   "id": "eee8c495",
   "metadata": {},
   "outputs": [
    {
     "data": {
      "text/plain": [
       "[<matplotlib.lines.Line2D at 0x13ccae988b0>]"
      ]
     },
     "execution_count": 21,
     "metadata": {},
     "output_type": "execute_result"
    },
    {
     "data": {
      "image/png": "[encoded data removed]",
      "text/plain": [
       "<Figure size 432x288 with 1 Axes>"
      ]
     },
     "metadata": {
      "needs_background": "light"
     },
     "output_type": "display_data"
    }
   ],
   "source": [
    "plt.plot(yr_price_avg)"
   ]
  },
  {
   "cell_type": "markdown",
   "id": "d7bf8680",
   "metadata": {},
   "source": [
    "Это подтверждает наше предположение. Средн. стоимость таких домов от 600000 до 800000"
   ]
  },
  {
   "cell_type": "markdown",
   "id": "1872c799",
   "metadata": {},
   "source": [
    "### Замена всех нулевых ценовых значений на $730000"
   ]
  },
  {
   "cell_type": "code",
   "execution_count": 23,
   "id": "a6e16757",
   "metadata": {},
   "outputs": [
    {
     "data": {
      "text/plain": [
       "0"
      ]
     },
     "execution_count": 23,
     "metadata": {},
     "output_type": "execute_result"
    }
   ],
   "source": [
    "data.price.replace(to_replace = 0, value = 735000, inplace = True) #для создания строки путем замены\n",
    "len(data[(data.price == 0)])"
   ]
  },
  {
   "cell_type": "code",
   "execution_count": 25,
   "id": "be3195fc",
   "metadata": {},
   "outputs": [
    {
     "data": {
      "text/html": [
       "<div>\n",
       "<style scoped>\n",
       "    .dataframe tbody tr th:only-of-type {\n",
       "        vertical-align: middle;\n",
       "    }\n",
       "\n",
       "    .dataframe tbody tr th {\n",
       "        vertical-align: top;\n",
       "    }\n",
       "\n",
       "    .dataframe thead th {\n",
       "        text-align: right;\n",
       "    }\n",
       "</style>\n",
       "<table border=\"1\" class=\"dataframe\">\n",
       "  <thead>\n",
       "    <tr style=\"text-align: right;\">\n",
       "      <th></th>\n",
       "      <th>date</th>\n",
       "      <th>price</th>\n",
       "      <th>bedrooms</th>\n",
       "      <th>bathrooms</th>\n",
       "      <th>sqft_living</th>\n",
       "      <th>sqft_lot</th>\n",
       "      <th>floors</th>\n",
       "      <th>waterfront</th>\n",
       "      <th>view</th>\n",
       "      <th>condition</th>\n",
       "      <th>sqft_above</th>\n",
       "      <th>sqft_basement</th>\n",
       "      <th>yr_built</th>\n",
       "      <th>yr_renovated</th>\n",
       "      <th>street</th>\n",
       "      <th>city</th>\n",
       "      <th>statezip</th>\n",
       "      <th>country</th>\n",
       "    </tr>\n",
       "  </thead>\n",
       "  <tbody>\n",
       "    <tr>\n",
       "      <th>0</th>\n",
       "      <td>2014-05-02 00:00:00</td>\n",
       "      <td>313000.0</td>\n",
       "      <td>3.0</td>\n",
       "      <td>1.50</td>\n",
       "      <td>1340</td>\n",
       "      <td>7912</td>\n",
       "      <td>1.5</td>\n",
       "      <td>0</td>\n",
       "      <td>0</td>\n",
       "      <td>3</td>\n",
       "      <td>1340</td>\n",
       "      <td>0</td>\n",
       "      <td>1955</td>\n",
       "      <td>2005</td>\n",
       "      <td>18810 Densmore Ave N</td>\n",
       "      <td>Shoreline</td>\n",
       "      <td>WA 98133</td>\n",
       "      <td>USA</td>\n",
       "    </tr>\n",
       "    <tr>\n",
       "      <th>1</th>\n",
       "      <td>2014-05-02 00:00:00</td>\n",
       "      <td>2384000.0</td>\n",
       "      <td>5.0</td>\n",
       "      <td>2.50</td>\n",
       "      <td>3650</td>\n",
       "      <td>9050</td>\n",
       "      <td>2.0</td>\n",
       "      <td>0</td>\n",
       "      <td>4</td>\n",
       "      <td>5</td>\n",
       "      <td>3370</td>\n",
       "      <td>280</td>\n",
       "      <td>1921</td>\n",
       "      <td>0</td>\n",
       "      <td>709 W Blaine St</td>\n",
       "      <td>Seattle</td>\n",
       "      <td>WA 98119</td>\n",
       "      <td>USA</td>\n",
       "    </tr>\n",
       "    <tr>\n",
       "      <th>2</th>\n",
       "      <td>2014-05-02 00:00:00</td>\n",
       "      <td>342000.0</td>\n",
       "      <td>3.0</td>\n",
       "      <td>2.00</td>\n",
       "      <td>1930</td>\n",
       "      <td>11947</td>\n",
       "      <td>1.0</td>\n",
       "      <td>0</td>\n",
       "      <td>0</td>\n",
       "      <td>4</td>\n",
       "      <td>1930</td>\n",
       "      <td>0</td>\n",
       "      <td>1966</td>\n",
       "      <td>0</td>\n",
       "      <td>26206-26214 143rd Ave SE</td>\n",
       "      <td>Kent</td>\n",
       "      <td>WA 98042</td>\n",
       "      <td>USA</td>\n",
       "    </tr>\n",
       "    <tr>\n",
       "      <th>3</th>\n",
       "      <td>2014-05-02 00:00:00</td>\n",
       "      <td>420000.0</td>\n",
       "      <td>3.0</td>\n",
       "      <td>2.25</td>\n",
       "      <td>2000</td>\n",
       "      <td>8030</td>\n",
       "      <td>1.0</td>\n",
       "      <td>0</td>\n",
       "      <td>0</td>\n",
       "      <td>4</td>\n",
       "      <td>1000</td>\n",
       "      <td>1000</td>\n",
       "      <td>1963</td>\n",
       "      <td>0</td>\n",
       "      <td>857 170th Pl NE</td>\n",
       "      <td>Bellevue</td>\n",
       "      <td>WA 98008</td>\n",
       "      <td>USA</td>\n",
       "    </tr>\n",
       "    <tr>\n",
       "      <th>4</th>\n",
       "      <td>2014-05-02 00:00:00</td>\n",
       "      <td>550000.0</td>\n",
       "      <td>4.0</td>\n",
       "      <td>2.50</td>\n",
       "      <td>1940</td>\n",
       "      <td>10500</td>\n",
       "      <td>1.0</td>\n",
       "      <td>0</td>\n",
       "      <td>0</td>\n",
       "      <td>4</td>\n",
       "      <td>1140</td>\n",
       "      <td>800</td>\n",
       "      <td>1976</td>\n",
       "      <td>1992</td>\n",
       "      <td>9105 170th Ave NE</td>\n",
       "      <td>Redmond</td>\n",
       "      <td>WA 98052</td>\n",
       "      <td>USA</td>\n",
       "    </tr>\n",
       "  </tbody>\n",
       "</table>\n",
       "</div>"
      ],
      "text/plain": [
       "                  date      price  bedrooms  bathrooms  sqft_living  sqft_lot  \\\n",
       "0  2014-05-02 00:00:00   313000.0       3.0       1.50         1340      7912   \n",
       "1  2014-05-02 00:00:00  2384000.0       5.0       2.50         3650      9050   \n",
       "2  2014-05-02 00:00:00   342000.0       3.0       2.00         1930     11947   \n",
       "3  2014-05-02 00:00:00   420000.0       3.0       2.25         2000      8030   \n",
       "4  2014-05-02 00:00:00   550000.0       4.0       2.50         1940     10500   \n",
       "\n",
       "   floors  waterfront  view  condition  sqft_above  sqft_basement  yr_built  \\\n",
       "0     1.5           0     0          3        1340              0      1955   \n",
       "1     2.0           0     4          5        3370            280      1921   \n",
       "2     1.0           0     0          4        1930              0      1966   \n",
       "3     1.0           0     0          4        1000           1000      1963   \n",
       "4     1.0           0     0          4        1140            800      1976   \n",
       "\n",
       "   yr_renovated                    street       city  statezip country  \n",
       "0          2005      18810 Densmore Ave N  Shoreline  WA 98133     USA  \n",
       "1             0           709 W Blaine St    Seattle  WA 98119     USA  \n",
       "2             0  26206-26214 143rd Ave SE       Kent  WA 98042     USA  \n",
       "3             0           857 170th Pl NE   Bellevue  WA 98008     USA  \n",
       "4          1992         9105 170th Ave NE    Redmond  WA 98052     USA  "
      ]
     },
     "execution_count": 25,
     "metadata": {},
     "output_type": "execute_result"
    }
   ],
   "source": [
    "data.head() #возвращает записи из начала датафрейма"
   ]
  },
  {
   "cell_type": "markdown",
   "id": "65053546",
   "metadata": {},
   "source": [
    "### Сокращение функций"
   ]
  },
  {
   "cell_type": "markdown",
   "id": "3c55b1d6",
   "metadata": {},
   "source": [
    "Поскольку sqft_living — самая важная функция, а sqft_living и sqft_above тесно взаимосвязаны, удалим функцию sqft_above."
   ]
  },
  {
   "cell_type": "code",
   "execution_count": 26,
   "id": "a4cbb1cf",
   "metadata": {},
   "outputs": [
    {
     "data": {
      "text/plain": [
       "(4600, 17)"
      ]
     },
     "execution_count": 26,
     "metadata": {},
     "output_type": "execute_result"
    }
   ],
   "source": [
    "data.drop(['sqft_above'], axis = 1, inplace = True) #удалить\n",
    "data.shape #массив"
   ]
  },
  {
   "cell_type": "markdown",
   "id": "fceae6b4",
   "metadata": {},
   "source": [
    "### Обработка порядка индекса"
   ]
  },
  {
   "cell_type": "markdown",
   "id": "8fb96720",
   "metadata": {},
   "source": [
    "При удалении некоторых строк наш исходный индекс набора данных изменяется. Давайте исправим это"
   ]
  },
  {
   "cell_type": "code",
   "execution_count": 27,
   "id": "63edbed2",
   "metadata": {},
   "outputs": [
    {
     "name": "stdout",
     "output_type": "stream",
     "text": [
      "<class 'pandas.core.frame.DataFrame'>\n",
      "RangeIndex: 4600 entries, 0 to 4599\n",
      "Data columns (total 18 columns):\n",
      " #   Column         Non-Null Count  Dtype  \n",
      "---  ------         --------------  -----  \n",
      " 0   index          4600 non-null   int64  \n",
      " 1   date           4600 non-null   object \n",
      " 2   price          4600 non-null   float64\n",
      " 3   bedrooms       4600 non-null   float64\n",
      " 4   bathrooms      4600 non-null   float64\n",
      " 5   sqft_living    4600 non-null   int64  \n",
      " 6   sqft_lot       4600 non-null   int64  \n",
      " 7   floors         4600 non-null   float64\n",
      " 8   waterfront     4600 non-null   int64  \n",
      " 9   view           4600 non-null   int64  \n",
      " 10  condition      4600 non-null   int64  \n",
      " 11  sqft_basement  4600 non-null   int64  \n",
      " 12  yr_built       4600 non-null   int64  \n",
      " 13  yr_renovated   4600 non-null   int64  \n",
      " 14  street         4600 non-null   object \n",
      " 15  city           4600 non-null   object \n",
      " 16  statezip       4600 non-null   object \n",
      " 17  country        4600 non-null   object \n",
      "dtypes: float64(4), int64(9), object(5)\n",
      "memory usage: 647.0+ KB\n"
     ]
    }
   ],
   "source": [
    "data = data.reset_index() #переиндексировать строки\n",
    "data.info() #справка"
   ]
  }
 ],
 "metadata": {
  "kernelspec": {
   "display_name": "Python 3 (ipykernel)",
   "language": "python",
   "name": "python3"
  },
  "language_info": {
   "codemirror_mode": {
    "name": "ipython",
    "version": 3
   },
   "file_extension": ".py",
   "mimetype": "text/x-python",
   "name": "python",
   "nbconvert_exporter": "python",
   "pygments_lexer": "ipython3",
   "version": "3.9.7"
  }
 },
 "nbformat": 4,
 "nbformat_minor": 5
}
